{
  "nbformat": 4,
  "nbformat_minor": 0,
  "metadata": {
    "colab": {
      "name": "Inception_ML.ipynb",
      "provenance": [],
      "machine_shape": "hm",
      "authorship_tag": "ABX9TyOwsZBzM5evLlDOC3ZfqAp+"
    },
    "kernelspec": {
      "name": "python3",
      "display_name": "Python 3"
    },
    "accelerator": "GPU"
  },
  "cells": [
    {
      "cell_type": "code",
      "metadata": {
        "id": "CuA0KepzK33Y"
      },
      "source": [
        "import keras\n",
        "from keras.models import Model\n",
        "from keras.layers import Conv2D, MaxPooling2D\n",
        "from keras.layers import Flatten, Dense\n",
        "from keras.layers import Input\n",
        "from keras.utils import np_utils\n",
        "from keras.datasets import cifar10\n",
        "\n",
        "epochs = 100"
      ],
      "execution_count": 22,
      "outputs": []
    },
    {
      "cell_type": "code",
      "metadata": {
        "id": "Klzq5uVqzTry"
      },
      "source": [
        "from keras.models import Model\n",
        "from keras.layers import Conv2D, MaxPool2D,  \\\n",
        "    Dropout, Dense, Input, concatenate,      \\\n",
        "    GlobalAveragePooling2D, AveragePooling2D,\\\n",
        "    Flatten\n",
        "\n",
        "import cv2 \n",
        "import numpy as np \n",
        "from keras.datasets import cifar10 \n",
        "from keras import backend as K \n",
        "from keras.utils import np_utils\n",
        "\n",
        "import math \n",
        "from keras.optimizers import SGD \n",
        "from keras.callbacks import LearningRateScheduler"
      ],
      "execution_count": 23,
      "outputs": []
    },
    {
      "cell_type": "code",
      "metadata": {
        "id": "gHRWhcYzDU7a"
      },
      "source": [
        "num_classes = 10\n",
        "\n",
        "def load_cifar10_data(img_rows, img_cols):\n",
        "\n",
        "    # Load cifar10 training and validation sets\n",
        "    (X_train, Y_train), (X_valid, Y_valid) = cifar10.load_data()\n",
        "\n",
        "    # Resize training images\n",
        "    X_train = np.array([cv2.resize(img, (img_rows,img_cols)) for img in X_train[:,:,:,:]])\n",
        "    X_valid = np.array([cv2.resize(img, (img_rows,img_cols)) for img in X_valid[:,:,:,:]])\n",
        "\n",
        "    # Transform targets to keras compatible format\n",
        "    Y_train = np_utils.to_categorical(Y_train, num_classes)\n",
        "    Y_valid = np_utils.to_categorical(Y_valid, num_classes)\n",
        "    \n",
        "    X_train = X_train.astype('float32')\n",
        "    X_valid = X_valid.astype('float32')\n",
        "\n",
        "    # preprocess data\n",
        "    X_train = X_train / 255.0\n",
        "    X_valid = X_valid / 255.0\n",
        "\n",
        "    return X_train, Y_train, X_valid, Y_valid"
      ],
      "execution_count": 24,
      "outputs": []
    },
    {
      "cell_type": "code",
      "metadata": {
        "id": "dDHzPuU26m_6"
      },
      "source": [
        "X_train, y_train, X_test, y_test = load_cifar10_data(32, 32)"
      ],
      "execution_count": 25,
      "outputs": []
    },
    {
      "cell_type": "code",
      "metadata": {
        "id": "FVg81BbfQ9_K"
      },
      "source": [
        "kernel_init = keras.initializers.glorot_uniform()\n",
        "bias_init = keras.initializers.Constant(value=0.2)"
      ],
      "execution_count": 26,
      "outputs": []
    },
    {
      "cell_type": "code",
      "metadata": {
        "id": "yvPF0DXQEJZ8"
      },
      "source": [
        "\n",
        "def inception_module(x,\n",
        "                     filters_1x1,\n",
        "                     filters_3x3_reduce,\n",
        "                     filters_3x3,\n",
        "                     filters_5x5_reduce,\n",
        "                     filters_5x5,\n",
        "                     filters_pool_proj,\n",
        "                     name=None):\n",
        "    \n",
        "    conv_1x1 = Conv2D(filters_1x1, (1, 1), padding='same', activation='relu', kernel_initializer=kernel_init, bias_initializer=bias_init)(x)\n",
        "    \n",
        "    conv_3x3 = Conv2D(filters_3x3_reduce, (1, 1), padding='same', activation='relu', kernel_initializer=kernel_init, bias_initializer=bias_init)(x)\n",
        "    conv_3x3 = Conv2D(filters_3x3, (3, 3), padding='same', activation='relu', kernel_initializer=kernel_init, bias_initializer=bias_init)(conv_3x3)\n",
        "\n",
        "    conv_5x5 = Conv2D(filters_5x5_reduce, (1, 1), padding='same', activation='relu', kernel_initializer=kernel_init, bias_initializer=bias_init)(x)\n",
        "    conv_5x5 = Conv2D(filters_5x5, (5, 5), padding='same', activation='relu', kernel_initializer=kernel_init, bias_initializer=bias_init)(conv_5x5)\n",
        "\n",
        "    pool_proj = MaxPool2D((3, 3), strides=(1, 1), padding='same')(x)\n",
        "    pool_proj = Conv2D(filters_pool_proj, (1, 1), padding='same', activation='relu', kernel_initializer=kernel_init, bias_initializer=bias_init)(pool_proj)\n",
        "\n",
        "    output = concatenate([conv_1x1, conv_3x3, conv_5x5, pool_proj], axis=3, name=name)\n",
        "    \n",
        "    return output"
      ],
      "execution_count": 27,
      "outputs": []
    },
    {
      "cell_type": "code",
      "metadata": {
        "id": "q-B6IgvKGL2t"
      },
      "source": [
        "input_layer = Input(shape=(32,32, 3))"
      ],
      "execution_count": 28,
      "outputs": []
    },
    {
      "cell_type": "code",
      "metadata": {
        "id": "fziXGZbHGOln"
      },
      "source": [
        "x = Conv2D(64, (7, 7), padding='same', strides=(2, 2), activation='relu', name='conv_1_7x7/2', kernel_initializer=kernel_init, bias_initializer=bias_init)(input_layer)\n",
        "x = MaxPool2D((3, 3), padding='same', strides=(2, 2), name='max_pool_1_3x3/2')(x)\n",
        "x = Conv2D(64, (1, 1), padding='same', strides=(1, 1), activation='relu', name='conv_2a_3x3/1')(x)\n",
        "x = Conv2D(192, (3, 3), padding='same', strides=(1, 1), activation='relu', name='conv_2b_3x3/1')(x)\n",
        "x = MaxPool2D((3, 3), padding='same', strides=(2, 2), name='max_pool_2_3x3/2')(x)"
      ],
      "execution_count": 29,
      "outputs": []
    },
    {
      "cell_type": "code",
      "metadata": {
        "id": "Tf-qVWrtFkCW"
      },
      "source": [
        "x = inception_module(x,\n",
        "                     filters_1x1=64,\n",
        "                     filters_3x3_reduce=96,\n",
        "                     filters_3x3=128,\n",
        "                     filters_5x5_reduce=16,\n",
        "                     filters_5x5=32,\n",
        "                     filters_pool_proj=32,\n",
        "                     name='inception_3a')"
      ],
      "execution_count": 30,
      "outputs": []
    },
    {
      "cell_type": "code",
      "metadata": {
        "id": "JmMSRtQiGAeG"
      },
      "source": [
        "x = inception_module(x,\n",
        "                     filters_1x1=128,\n",
        "                     filters_3x3_reduce=128,\n",
        "                     filters_3x3=192,\n",
        "                     filters_5x5_reduce=32,\n",
        "                     filters_5x5=96,\n",
        "                     filters_pool_proj=64,\n",
        "                     name='inception_3b')\n",
        "\n",
        "x = MaxPool2D((3, 3), padding='same', strides=(2, 2), name='max_pool_3_3x3/2')(x)"
      ],
      "execution_count": 31,
      "outputs": []
    },
    {
      "cell_type": "code",
      "metadata": {
        "id": "M6eSNNAnGVfJ"
      },
      "source": [
        "x = inception_module(x,\n",
        "                     filters_1x1=192,\n",
        "                     filters_3x3_reduce=96,\n",
        "                     filters_3x3=208,\n",
        "                     filters_5x5_reduce=16,\n",
        "                     filters_5x5=48,\n",
        "                     filters_pool_proj=64,\n",
        "                     name='inception_4a')\n"
      ],
      "execution_count": 32,
      "outputs": []
    },
    {
      "cell_type": "code",
      "metadata": {
        "id": "fRZYOZHvRxgy"
      },
      "source": [
        "x1 = AveragePooling2D((3, 3), strides=(1,1), padding='same')(x)"
      ],
      "execution_count": 33,
      "outputs": []
    },
    {
      "cell_type": "code",
      "metadata": {
        "id": "R5hfSOEzSMEK"
      },
      "source": [
        ""
      ],
      "execution_count": 33,
      "outputs": []
    },
    {
      "cell_type": "code",
      "metadata": {
        "id": "uo_1guBOGXru"
      },
      "source": [
        "\n",
        "x1 = Conv2D(128, (1, 1), padding='same', activation='relu')(x1)\n",
        "x1 = Flatten()(x1)\n",
        "x1 = Dense(1024, activation='relu')(x1)\n",
        "x1 = Dropout(0.7)(x1)\n",
        "x1 = Dense(10, activation='softmax', name='auxilliary_output_1')(x1)"
      ],
      "execution_count": 34,
      "outputs": []
    },
    {
      "cell_type": "code",
      "metadata": {
        "id": "wSneowDBGaJG"
      },
      "source": [
        "x = inception_module(x,\n",
        "                     filters_1x1=160,\n",
        "                     filters_3x3_reduce=112,\n",
        "                     filters_3x3=224,\n",
        "                     filters_5x5_reduce=24,\n",
        "                     filters_5x5=64,\n",
        "                     filters_pool_proj=64,\n",
        "                     name='inception_4b')\n",
        "\n",
        "x = inception_module(x,\n",
        "                     filters_1x1=128,\n",
        "                     filters_3x3_reduce=128,\n",
        "                     filters_3x3=256,\n",
        "                     filters_5x5_reduce=24,\n",
        "                     filters_5x5=64,\n",
        "                     filters_pool_proj=64,\n",
        "                     name='inception_4c')\n",
        "\n",
        "x = inception_module(x,\n",
        "                     filters_1x1=112,\n",
        "                     filters_3x3_reduce=144,\n",
        "                     filters_3x3=288,\n",
        "                     filters_5x5_reduce=32,\n",
        "                     filters_5x5=64,\n",
        "                     filters_pool_proj=64,\n",
        "                     name='inception_4d')\n"
      ],
      "execution_count": 35,
      "outputs": []
    },
    {
      "cell_type": "code",
      "metadata": {
        "id": "Rv8pg5fGGevu"
      },
      "source": [
        "x2 = AveragePooling2D((3, 3), strides=(1,1), padding='same')(x)\n",
        "x2 = Conv2D(128, (1, 1), padding='same', activation='relu')(x2)\n",
        "x2 = Flatten()(x2)\n",
        "x2 = Dense(1024, activation='relu')(x2)\n",
        "x2 = Dropout(0.7)(x2)\n",
        "x2 = Dense(10, activation='softmax', name='auxilliary_output_2')(x2)\n",
        "\n",
        "x = inception_module(x,\n",
        "                     filters_1x1=256,\n",
        "                     filters_3x3_reduce=160,\n",
        "                     filters_3x3=320,\n",
        "                     filters_5x5_reduce=32,\n",
        "                     filters_5x5=128,\n",
        "                     filters_pool_proj=128,\n",
        "                     name='inception_4e')\n",
        "\n",
        "x = MaxPool2D((3, 3), padding='same', strides=(2, 2), name='max_pool_4_3x3/2')(x)\n",
        "\n",
        "x = inception_module(x,\n",
        "                     filters_1x1=256,\n",
        "                     filters_3x3_reduce=160,\n",
        "                     filters_3x3=320,\n",
        "                     filters_5x5_reduce=32,\n",
        "                     filters_5x5=128,\n",
        "                     filters_pool_proj=128,\n",
        "                     name='inception_5a')\n",
        "\n",
        "x = inception_module(x,\n",
        "                     filters_1x1=384,\n",
        "                     filters_3x3_reduce=192,\n",
        "                     filters_3x3=384,\n",
        "                     filters_5x5_reduce=48,\n",
        "                     filters_5x5=128,\n",
        "                     filters_pool_proj=128,\n",
        "                     name='inception_5b')\n",
        "\n",
        "x = GlobalAveragePooling2D(name='avg_pool_5_3x3/1')(x)\n",
        "\n",
        "x = Dropout(0.4)(x)\n",
        "\n",
        "x = Dense(10, activation='softmax', name='output')(x)"
      ],
      "execution_count": 36,
      "outputs": []
    },
    {
      "cell_type": "code",
      "metadata": {
        "id": "JTczuygoGmZF"
      },
      "source": [
        "model = Model(input_layer, [x, x1, x2], name='inception_v1')"
      ],
      "execution_count": 37,
      "outputs": []
    },
    {
      "cell_type": "code",
      "metadata": {
        "id": "vP946IRiGpR8",
        "outputId": "8f948879-8a38-4569-fe9f-93177ff094e0",
        "colab": {
          "base_uri": "https://localhost:8080/"
        }
      },
      "source": [
        "model.summary()"
      ],
      "execution_count": 38,
      "outputs": [
        {
          "output_type": "stream",
          "text": [
            "Model: \"inception_v1\"\n",
            "__________________________________________________________________________________________________\n",
            "Layer (type)                    Output Shape         Param #     Connected to                     \n",
            "==================================================================================================\n",
            "input_2 (InputLayer)            [(None, 32, 32, 3)]  0                                            \n",
            "__________________________________________________________________________________________________\n",
            "conv_1_7x7/2 (Conv2D)           (None, 16, 16, 64)   9472        input_2[0][0]                    \n",
            "__________________________________________________________________________________________________\n",
            "max_pool_1_3x3/2 (MaxPooling2D) (None, 8, 8, 64)     0           conv_1_7x7/2[0][0]               \n",
            "__________________________________________________________________________________________________\n",
            "conv_2a_3x3/1 (Conv2D)          (None, 8, 8, 64)     4160        max_pool_1_3x3/2[0][0]           \n",
            "__________________________________________________________________________________________________\n",
            "conv_2b_3x3/1 (Conv2D)          (None, 8, 8, 192)    110784      conv_2a_3x3/1[0][0]              \n",
            "__________________________________________________________________________________________________\n",
            "max_pool_2_3x3/2 (MaxPooling2D) (None, 4, 4, 192)    0           conv_2b_3x3/1[0][0]              \n",
            "__________________________________________________________________________________________________\n",
            "conv2d_57 (Conv2D)              (None, 4, 4, 96)     18528       max_pool_2_3x3/2[0][0]           \n",
            "__________________________________________________________________________________________________\n",
            "conv2d_59 (Conv2D)              (None, 4, 4, 16)     3088        max_pool_2_3x3/2[0][0]           \n",
            "__________________________________________________________________________________________________\n",
            "max_pooling2d_9 (MaxPooling2D)  (None, 4, 4, 192)    0           max_pool_2_3x3/2[0][0]           \n",
            "__________________________________________________________________________________________________\n",
            "conv2d_56 (Conv2D)              (None, 4, 4, 64)     12352       max_pool_2_3x3/2[0][0]           \n",
            "__________________________________________________________________________________________________\n",
            "conv2d_58 (Conv2D)              (None, 4, 4, 128)    110720      conv2d_57[0][0]                  \n",
            "__________________________________________________________________________________________________\n",
            "conv2d_60 (Conv2D)              (None, 4, 4, 32)     12832       conv2d_59[0][0]                  \n",
            "__________________________________________________________________________________________________\n",
            "conv2d_61 (Conv2D)              (None, 4, 4, 32)     6176        max_pooling2d_9[0][0]            \n",
            "__________________________________________________________________________________________________\n",
            "inception_3a (Concatenate)      (None, 4, 4, 256)    0           conv2d_56[0][0]                  \n",
            "                                                                 conv2d_58[0][0]                  \n",
            "                                                                 conv2d_60[0][0]                  \n",
            "                                                                 conv2d_61[0][0]                  \n",
            "__________________________________________________________________________________________________\n",
            "conv2d_63 (Conv2D)              (None, 4, 4, 128)    32896       inception_3a[0][0]               \n",
            "__________________________________________________________________________________________________\n",
            "conv2d_65 (Conv2D)              (None, 4, 4, 32)     8224        inception_3a[0][0]               \n",
            "__________________________________________________________________________________________________\n",
            "max_pooling2d_10 (MaxPooling2D) (None, 4, 4, 256)    0           inception_3a[0][0]               \n",
            "__________________________________________________________________________________________________\n",
            "conv2d_62 (Conv2D)              (None, 4, 4, 128)    32896       inception_3a[0][0]               \n",
            "__________________________________________________________________________________________________\n",
            "conv2d_64 (Conv2D)              (None, 4, 4, 192)    221376      conv2d_63[0][0]                  \n",
            "__________________________________________________________________________________________________\n",
            "conv2d_66 (Conv2D)              (None, 4, 4, 96)     76896       conv2d_65[0][0]                  \n",
            "__________________________________________________________________________________________________\n",
            "conv2d_67 (Conv2D)              (None, 4, 4, 64)     16448       max_pooling2d_10[0][0]           \n",
            "__________________________________________________________________________________________________\n",
            "inception_3b (Concatenate)      (None, 4, 4, 480)    0           conv2d_62[0][0]                  \n",
            "                                                                 conv2d_64[0][0]                  \n",
            "                                                                 conv2d_66[0][0]                  \n",
            "                                                                 conv2d_67[0][0]                  \n",
            "__________________________________________________________________________________________________\n",
            "max_pool_3_3x3/2 (MaxPooling2D) (None, 2, 2, 480)    0           inception_3b[0][0]               \n",
            "__________________________________________________________________________________________________\n",
            "conv2d_69 (Conv2D)              (None, 2, 2, 96)     46176       max_pool_3_3x3/2[0][0]           \n",
            "__________________________________________________________________________________________________\n",
            "conv2d_71 (Conv2D)              (None, 2, 2, 16)     7696        max_pool_3_3x3/2[0][0]           \n",
            "__________________________________________________________________________________________________\n",
            "max_pooling2d_11 (MaxPooling2D) (None, 2, 2, 480)    0           max_pool_3_3x3/2[0][0]           \n",
            "__________________________________________________________________________________________________\n",
            "conv2d_68 (Conv2D)              (None, 2, 2, 192)    92352       max_pool_3_3x3/2[0][0]           \n",
            "__________________________________________________________________________________________________\n",
            "conv2d_70 (Conv2D)              (None, 2, 2, 208)    179920      conv2d_69[0][0]                  \n",
            "__________________________________________________________________________________________________\n",
            "conv2d_72 (Conv2D)              (None, 2, 2, 48)     19248       conv2d_71[0][0]                  \n",
            "__________________________________________________________________________________________________\n",
            "conv2d_73 (Conv2D)              (None, 2, 2, 64)     30784       max_pooling2d_11[0][0]           \n",
            "__________________________________________________________________________________________________\n",
            "inception_4a (Concatenate)      (None, 2, 2, 512)    0           conv2d_68[0][0]                  \n",
            "                                                                 conv2d_70[0][0]                  \n",
            "                                                                 conv2d_72[0][0]                  \n",
            "                                                                 conv2d_73[0][0]                  \n",
            "__________________________________________________________________________________________________\n",
            "conv2d_76 (Conv2D)              (None, 2, 2, 112)    57456       inception_4a[0][0]               \n",
            "__________________________________________________________________________________________________\n",
            "conv2d_78 (Conv2D)              (None, 2, 2, 24)     12312       inception_4a[0][0]               \n",
            "__________________________________________________________________________________________________\n",
            "max_pooling2d_12 (MaxPooling2D) (None, 2, 2, 512)    0           inception_4a[0][0]               \n",
            "__________________________________________________________________________________________________\n",
            "conv2d_75 (Conv2D)              (None, 2, 2, 160)    82080       inception_4a[0][0]               \n",
            "__________________________________________________________________________________________________\n",
            "conv2d_77 (Conv2D)              (None, 2, 2, 224)    226016      conv2d_76[0][0]                  \n",
            "__________________________________________________________________________________________________\n",
            "conv2d_79 (Conv2D)              (None, 2, 2, 64)     38464       conv2d_78[0][0]                  \n",
            "__________________________________________________________________________________________________\n",
            "conv2d_80 (Conv2D)              (None, 2, 2, 64)     32832       max_pooling2d_12[0][0]           \n",
            "__________________________________________________________________________________________________\n",
            "inception_4b (Concatenate)      (None, 2, 2, 512)    0           conv2d_75[0][0]                  \n",
            "                                                                 conv2d_77[0][0]                  \n",
            "                                                                 conv2d_79[0][0]                  \n",
            "                                                                 conv2d_80[0][0]                  \n",
            "__________________________________________________________________________________________________\n",
            "conv2d_82 (Conv2D)              (None, 2, 2, 128)    65664       inception_4b[0][0]               \n",
            "__________________________________________________________________________________________________\n",
            "conv2d_84 (Conv2D)              (None, 2, 2, 24)     12312       inception_4b[0][0]               \n",
            "__________________________________________________________________________________________________\n",
            "max_pooling2d_13 (MaxPooling2D) (None, 2, 2, 512)    0           inception_4b[0][0]               \n",
            "__________________________________________________________________________________________________\n",
            "conv2d_81 (Conv2D)              (None, 2, 2, 128)    65664       inception_4b[0][0]               \n",
            "__________________________________________________________________________________________________\n",
            "conv2d_83 (Conv2D)              (None, 2, 2, 256)    295168      conv2d_82[0][0]                  \n",
            "__________________________________________________________________________________________________\n",
            "conv2d_85 (Conv2D)              (None, 2, 2, 64)     38464       conv2d_84[0][0]                  \n",
            "__________________________________________________________________________________________________\n",
            "conv2d_86 (Conv2D)              (None, 2, 2, 64)     32832       max_pooling2d_13[0][0]           \n",
            "__________________________________________________________________________________________________\n",
            "inception_4c (Concatenate)      (None, 2, 2, 512)    0           conv2d_81[0][0]                  \n",
            "                                                                 conv2d_83[0][0]                  \n",
            "                                                                 conv2d_85[0][0]                  \n",
            "                                                                 conv2d_86[0][0]                  \n",
            "__________________________________________________________________________________________________\n",
            "conv2d_88 (Conv2D)              (None, 2, 2, 144)    73872       inception_4c[0][0]               \n",
            "__________________________________________________________________________________________________\n",
            "conv2d_90 (Conv2D)              (None, 2, 2, 32)     16416       inception_4c[0][0]               \n",
            "__________________________________________________________________________________________________\n",
            "max_pooling2d_14 (MaxPooling2D) (None, 2, 2, 512)    0           inception_4c[0][0]               \n",
            "__________________________________________________________________________________________________\n",
            "conv2d_87 (Conv2D)              (None, 2, 2, 112)    57456       inception_4c[0][0]               \n",
            "__________________________________________________________________________________________________\n",
            "conv2d_89 (Conv2D)              (None, 2, 2, 288)    373536      conv2d_88[0][0]                  \n",
            "__________________________________________________________________________________________________\n",
            "conv2d_91 (Conv2D)              (None, 2, 2, 64)     51264       conv2d_90[0][0]                  \n",
            "__________________________________________________________________________________________________\n",
            "conv2d_92 (Conv2D)              (None, 2, 2, 64)     32832       max_pooling2d_14[0][0]           \n",
            "__________________________________________________________________________________________________\n",
            "inception_4d (Concatenate)      (None, 2, 2, 528)    0           conv2d_87[0][0]                  \n",
            "                                                                 conv2d_89[0][0]                  \n",
            "                                                                 conv2d_91[0][0]                  \n",
            "                                                                 conv2d_92[0][0]                  \n",
            "__________________________________________________________________________________________________\n",
            "conv2d_95 (Conv2D)              (None, 2, 2, 160)    84640       inception_4d[0][0]               \n",
            "__________________________________________________________________________________________________\n",
            "conv2d_97 (Conv2D)              (None, 2, 2, 32)     16928       inception_4d[0][0]               \n",
            "__________________________________________________________________________________________________\n",
            "max_pooling2d_15 (MaxPooling2D) (None, 2, 2, 528)    0           inception_4d[0][0]               \n",
            "__________________________________________________________________________________________________\n",
            "conv2d_94 (Conv2D)              (None, 2, 2, 256)    135424      inception_4d[0][0]               \n",
            "__________________________________________________________________________________________________\n",
            "conv2d_96 (Conv2D)              (None, 2, 2, 320)    461120      conv2d_95[0][0]                  \n",
            "__________________________________________________________________________________________________\n",
            "conv2d_98 (Conv2D)              (None, 2, 2, 128)    102528      conv2d_97[0][0]                  \n",
            "__________________________________________________________________________________________________\n",
            "conv2d_99 (Conv2D)              (None, 2, 2, 128)    67712       max_pooling2d_15[0][0]           \n",
            "__________________________________________________________________________________________________\n",
            "inception_4e (Concatenate)      (None, 2, 2, 832)    0           conv2d_94[0][0]                  \n",
            "                                                                 conv2d_96[0][0]                  \n",
            "                                                                 conv2d_98[0][0]                  \n",
            "                                                                 conv2d_99[0][0]                  \n",
            "__________________________________________________________________________________________________\n",
            "max_pool_4_3x3/2 (MaxPooling2D) (None, 1, 1, 832)    0           inception_4e[0][0]               \n",
            "__________________________________________________________________________________________________\n",
            "conv2d_101 (Conv2D)             (None, 1, 1, 160)    133280      max_pool_4_3x3/2[0][0]           \n",
            "__________________________________________________________________________________________________\n",
            "conv2d_103 (Conv2D)             (None, 1, 1, 32)     26656       max_pool_4_3x3/2[0][0]           \n",
            "__________________________________________________________________________________________________\n",
            "max_pooling2d_16 (MaxPooling2D) (None, 1, 1, 832)    0           max_pool_4_3x3/2[0][0]           \n",
            "__________________________________________________________________________________________________\n",
            "conv2d_100 (Conv2D)             (None, 1, 1, 256)    213248      max_pool_4_3x3/2[0][0]           \n",
            "__________________________________________________________________________________________________\n",
            "conv2d_102 (Conv2D)             (None, 1, 1, 320)    461120      conv2d_101[0][0]                 \n",
            "__________________________________________________________________________________________________\n",
            "conv2d_104 (Conv2D)             (None, 1, 1, 128)    102528      conv2d_103[0][0]                 \n",
            "__________________________________________________________________________________________________\n",
            "conv2d_105 (Conv2D)             (None, 1, 1, 128)    106624      max_pooling2d_16[0][0]           \n",
            "__________________________________________________________________________________________________\n",
            "inception_5a (Concatenate)      (None, 1, 1, 832)    0           conv2d_100[0][0]                 \n",
            "                                                                 conv2d_102[0][0]                 \n",
            "                                                                 conv2d_104[0][0]                 \n",
            "                                                                 conv2d_105[0][0]                 \n",
            "__________________________________________________________________________________________________\n",
            "conv2d_107 (Conv2D)             (None, 1, 1, 192)    159936      inception_5a[0][0]               \n",
            "__________________________________________________________________________________________________\n",
            "conv2d_109 (Conv2D)             (None, 1, 1, 48)     39984       inception_5a[0][0]               \n",
            "__________________________________________________________________________________________________\n",
            "max_pooling2d_17 (MaxPooling2D) (None, 1, 1, 832)    0           inception_5a[0][0]               \n",
            "__________________________________________________________________________________________________\n",
            "average_pooling2d_2 (AveragePoo (None, 2, 2, 512)    0           inception_4a[0][0]               \n",
            "__________________________________________________________________________________________________\n",
            "average_pooling2d_3 (AveragePoo (None, 2, 2, 528)    0           inception_4d[0][0]               \n",
            "__________________________________________________________________________________________________\n",
            "conv2d_106 (Conv2D)             (None, 1, 1, 384)    319872      inception_5a[0][0]               \n",
            "__________________________________________________________________________________________________\n",
            "conv2d_108 (Conv2D)             (None, 1, 1, 384)    663936      conv2d_107[0][0]                 \n",
            "__________________________________________________________________________________________________\n",
            "conv2d_110 (Conv2D)             (None, 1, 1, 128)    153728      conv2d_109[0][0]                 \n",
            "__________________________________________________________________________________________________\n",
            "conv2d_111 (Conv2D)             (None, 1, 1, 128)    106624      max_pooling2d_17[0][0]           \n",
            "__________________________________________________________________________________________________\n",
            "conv2d_74 (Conv2D)              (None, 2, 2, 128)    65664       average_pooling2d_2[0][0]        \n",
            "__________________________________________________________________________________________________\n",
            "conv2d_93 (Conv2D)              (None, 2, 2, 128)    67712       average_pooling2d_3[0][0]        \n",
            "__________________________________________________________________________________________________\n",
            "inception_5b (Concatenate)      (None, 1, 1, 1024)   0           conv2d_106[0][0]                 \n",
            "                                                                 conv2d_108[0][0]                 \n",
            "                                                                 conv2d_110[0][0]                 \n",
            "                                                                 conv2d_111[0][0]                 \n",
            "__________________________________________________________________________________________________\n",
            "flatten_2 (Flatten)             (None, 512)          0           conv2d_74[0][0]                  \n",
            "__________________________________________________________________________________________________\n",
            "flatten_3 (Flatten)             (None, 512)          0           conv2d_93[0][0]                  \n",
            "__________________________________________________________________________________________________\n",
            "avg_pool_5_3x3/1 (GlobalAverage (None, 1024)         0           inception_5b[0][0]               \n",
            "__________________________________________________________________________________________________\n",
            "dense_2 (Dense)                 (None, 1024)         525312      flatten_2[0][0]                  \n",
            "__________________________________________________________________________________________________\n",
            "dense_3 (Dense)                 (None, 1024)         525312      flatten_3[0][0]                  \n",
            "__________________________________________________________________________________________________\n",
            "dropout_5 (Dropout)             (None, 1024)         0           avg_pool_5_3x3/1[0][0]           \n",
            "__________________________________________________________________________________________________\n",
            "dropout_3 (Dropout)             (None, 1024)         0           dense_2[0][0]                    \n",
            "__________________________________________________________________________________________________\n",
            "dropout_4 (Dropout)             (None, 1024)         0           dense_3[0][0]                    \n",
            "__________________________________________________________________________________________________\n",
            "output (Dense)                  (None, 10)           10250       dropout_5[0][0]                  \n",
            "__________________________________________________________________________________________________\n",
            "auxilliary_output_1 (Dense)     (None, 10)           10250       dropout_3[0][0]                  \n",
            "__________________________________________________________________________________________________\n",
            "auxilliary_output_2 (Dense)     (None, 10)           10250       dropout_4[0][0]                  \n",
            "==================================================================================================\n",
            "Total params: 7,188,302\n",
            "Trainable params: 7,188,302\n",
            "Non-trainable params: 0\n",
            "__________________________________________________________________________________________________\n"
          ],
          "name": "stdout"
        }
      ]
    },
    {
      "cell_type": "code",
      "metadata": {
        "id": "DOTo9bWfH_Wz"
      },
      "source": [
        "epochs = 25\n",
        "initial_lrate = 0.01\n",
        "\n",
        "def decay(epoch, steps=100):\n",
        "    initial_lrate = 0.01\n",
        "    drop = 0.96\n",
        "    epochs_drop = 8\n",
        "    lrate = initial_lrate * math.pow(drop, math.floor((1+epoch)/epochs_drop))\n",
        "    return lrate\n",
        "\n",
        "sgd = SGD(lr=initial_lrate, momentum=0.9, nesterov=False)\n",
        "\n",
        "lr_sc = LearningRateScheduler(decay, verbose=1)\n",
        "\n",
        "model.compile(loss=['categorical_crossentropy', 'categorical_crossentropy', 'categorical_crossentropy'], loss_weights=[1, 0.3, 0.3], optimizer=sgd, metrics=['accuracy'])"
      ],
      "execution_count": 39,
      "outputs": []
    },
    {
      "cell_type": "code",
      "metadata": {
        "id": "sUw1x07jcnFN",
        "outputId": "01912195-94da-4b09-ef04-0ee74aeb245a",
        "colab": {
          "base_uri": "https://localhost:8080/"
        }
      },
      "source": [
        "history = model.fit(X_train,y_train, validation_data=(X_test,y_test), epochs=epochs, batch_size=512)"
      ],
      "execution_count": 40,
      "outputs": [
        {
          "output_type": "stream",
          "text": [
            "Epoch 1/25\n",
            "98/98 [==============================] - 6s 58ms/step - loss: 3.7181 - output_loss: 2.3322 - auxilliary_output_1_loss: 2.3075 - auxilliary_output_2_loss: 2.3122 - output_accuracy: 0.1057 - auxilliary_output_1_accuracy: 0.1134 - auxilliary_output_2_accuracy: 0.1009 - val_loss: 3.6537 - val_output_loss: 2.2782 - val_auxilliary_output_1_loss: 2.2853 - val_auxilliary_output_2_loss: 2.2998 - val_output_accuracy: 0.1527 - val_auxilliary_output_1_accuracy: 0.1931 - val_auxilliary_output_2_accuracy: 0.1075\n",
            "Epoch 2/25\n",
            "98/98 [==============================] - 4s 42ms/step - loss: 3.4458 - output_loss: 2.1285 - auxilliary_output_1_loss: 2.1721 - auxilliary_output_2_loss: 2.2187 - output_accuracy: 0.1867 - auxilliary_output_1_accuracy: 0.1796 - auxilliary_output_2_accuracy: 0.1578 - val_loss: 3.1784 - val_output_loss: 1.9749 - val_auxilliary_output_1_loss: 1.9934 - val_auxilliary_output_2_loss: 2.0181 - val_output_accuracy: 0.2420 - val_auxilliary_output_1_accuracy: 0.2573 - val_auxilliary_output_2_accuracy: 0.2199\n",
            "Epoch 3/25\n",
            "98/98 [==============================] - 4s 42ms/step - loss: 3.1172 - output_loss: 1.9309 - auxilliary_output_1_loss: 1.9654 - auxilliary_output_2_loss: 1.9890 - output_accuracy: 0.2610 - auxilliary_output_1_accuracy: 0.2455 - auxilliary_output_2_accuracy: 0.2276 - val_loss: 2.9785 - val_output_loss: 1.8553 - val_auxilliary_output_1_loss: 1.8657 - val_auxilliary_output_2_loss: 1.8782 - val_output_accuracy: 0.2970 - val_auxilliary_output_1_accuracy: 0.2970 - val_auxilliary_output_2_accuracy: 0.2815\n",
            "Epoch 4/25\n",
            "98/98 [==============================] - 4s 42ms/step - loss: 2.8470 - output_loss: 1.7652 - auxilliary_output_1_loss: 1.7954 - auxilliary_output_2_loss: 1.8105 - output_accuracy: 0.3288 - auxilliary_output_1_accuracy: 0.3122 - auxilliary_output_2_accuracy: 0.3067 - val_loss: 2.6925 - val_output_loss: 1.6871 - val_auxilliary_output_1_loss: 1.6656 - val_auxilliary_output_2_loss: 1.6858 - val_output_accuracy: 0.3567 - val_auxilliary_output_1_accuracy: 0.3789 - val_auxilliary_output_2_accuracy: 0.3624\n",
            "Epoch 5/25\n",
            "98/98 [==============================] - 4s 42ms/step - loss: 2.6275 - output_loss: 1.6315 - auxilliary_output_1_loss: 1.6532 - auxilliary_output_2_loss: 1.6669 - output_accuracy: 0.3825 - auxilliary_output_1_accuracy: 0.3735 - auxilliary_output_2_accuracy: 0.3659 - val_loss: 2.6998 - val_output_loss: 1.6962 - val_auxilliary_output_1_loss: 1.6495 - val_auxilliary_output_2_loss: 1.6962 - val_output_accuracy: 0.3896 - val_auxilliary_output_1_accuracy: 0.4019 - val_auxilliary_output_2_accuracy: 0.3922\n",
            "Epoch 6/25\n",
            "98/98 [==============================] - 4s 42ms/step - loss: 2.4783 - output_loss: 1.5406 - auxilliary_output_1_loss: 1.5555 - auxilliary_output_2_loss: 1.5704 - output_accuracy: 0.4199 - auxilliary_output_1_accuracy: 0.4112 - auxilliary_output_2_accuracy: 0.4070 - val_loss: 2.2893 - val_output_loss: 1.4287 - val_auxilliary_output_1_loss: 1.4345 - val_auxilliary_output_2_loss: 1.4342 - val_output_accuracy: 0.4695 - val_auxilliary_output_1_accuracy: 0.4652 - val_auxilliary_output_2_accuracy: 0.4672\n",
            "Epoch 7/25\n",
            "98/98 [==============================] - 4s 42ms/step - loss: 2.3202 - output_loss: 1.4418 - auxilliary_output_1_loss: 1.4562 - auxilliary_output_2_loss: 1.4718 - output_accuracy: 0.4678 - auxilliary_output_1_accuracy: 0.4606 - auxilliary_output_2_accuracy: 0.4556 - val_loss: 2.1985 - val_output_loss: 1.3721 - val_auxilliary_output_1_loss: 1.3678 - val_auxilliary_output_2_loss: 1.3870 - val_output_accuracy: 0.4942 - val_auxilliary_output_1_accuracy: 0.5012 - val_auxilliary_output_2_accuracy: 0.4890\n",
            "Epoch 8/25\n",
            "98/98 [==============================] - 4s 42ms/step - loss: 2.1819 - output_loss: 1.3557 - auxilliary_output_1_loss: 1.3731 - auxilliary_output_2_loss: 1.3811 - output_accuracy: 0.5005 - auxilliary_output_1_accuracy: 0.4945 - auxilliary_output_2_accuracy: 0.4922 - val_loss: 2.0279 - val_output_loss: 1.2650 - val_auxilliary_output_1_loss: 1.2729 - val_auxilliary_output_2_loss: 1.2703 - val_output_accuracy: 0.5379 - val_auxilliary_output_1_accuracy: 0.5327 - val_auxilliary_output_2_accuracy: 0.5372\n",
            "Epoch 9/25\n",
            "98/98 [==============================] - 4s 42ms/step - loss: 2.0995 - output_loss: 1.3075 - auxilliary_output_1_loss: 1.3151 - auxilliary_output_2_loss: 1.3250 - output_accuracy: 0.5207 - auxilliary_output_1_accuracy: 0.5209 - auxilliary_output_2_accuracy: 0.5163 - val_loss: 1.9569 - val_output_loss: 1.2227 - val_auxilliary_output_1_loss: 1.2220 - val_auxilliary_output_2_loss: 1.2253 - val_output_accuracy: 0.5478 - val_auxilliary_output_1_accuracy: 0.5484 - val_auxilliary_output_2_accuracy: 0.5519\n",
            "Epoch 10/25\n",
            "98/98 [==============================] - 4s 42ms/step - loss: 1.9324 - output_loss: 1.2000 - auxilliary_output_1_loss: 1.2195 - auxilliary_output_2_loss: 1.2220 - output_accuracy: 0.5645 - auxilliary_output_1_accuracy: 0.5558 - auxilliary_output_2_accuracy: 0.5591 - val_loss: 1.9905 - val_output_loss: 1.2578 - val_auxilliary_output_1_loss: 1.2084 - val_auxilliary_output_2_loss: 1.2340 - val_output_accuracy: 0.5430 - val_auxilliary_output_1_accuracy: 0.5576 - val_auxilliary_output_2_accuracy: 0.5505\n",
            "Epoch 11/25\n",
            "98/98 [==============================] - 4s 42ms/step - loss: 1.8442 - output_loss: 1.1465 - auxilliary_output_1_loss: 1.1617 - auxilliary_output_2_loss: 1.1640 - output_accuracy: 0.5851 - auxilliary_output_1_accuracy: 0.5807 - auxilliary_output_2_accuracy: 0.5817 - val_loss: 1.8158 - val_output_loss: 1.1353 - val_auxilliary_output_1_loss: 1.1385 - val_auxilliary_output_2_loss: 1.1299 - val_output_accuracy: 0.5870 - val_auxilliary_output_1_accuracy: 0.5842 - val_auxilliary_output_2_accuracy: 0.5907\n",
            "Epoch 12/25\n",
            "98/98 [==============================] - 4s 42ms/step - loss: 1.7652 - output_loss: 1.0987 - auxilliary_output_1_loss: 1.1084 - auxilliary_output_2_loss: 1.1132 - output_accuracy: 0.6049 - auxilliary_output_1_accuracy: 0.6019 - auxilliary_output_2_accuracy: 0.5999 - val_loss: 1.7399 - val_output_loss: 1.0946 - val_auxilliary_output_1_loss: 1.0671 - val_auxilliary_output_2_loss: 1.0838 - val_output_accuracy: 0.6076 - val_auxilliary_output_1_accuracy: 0.6140 - val_auxilliary_output_2_accuracy: 0.6107\n",
            "Epoch 13/25\n",
            "98/98 [==============================] - 4s 43ms/step - loss: 1.6596 - output_loss: 1.0315 - auxilliary_output_1_loss: 1.0470 - auxilliary_output_2_loss: 1.0468 - output_accuracy: 0.6321 - auxilliary_output_1_accuracy: 0.6254 - auxilliary_output_2_accuracy: 0.6287 - val_loss: 1.7139 - val_output_loss: 1.0772 - val_auxilliary_output_1_loss: 1.0557 - val_auxilliary_output_2_loss: 1.0668 - val_output_accuracy: 0.6188 - val_auxilliary_output_1_accuracy: 0.6202 - val_auxilliary_output_2_accuracy: 0.6202\n",
            "Epoch 14/25\n",
            "98/98 [==============================] - 4s 42ms/step - loss: 1.5299 - output_loss: 0.9475 - auxilliary_output_1_loss: 0.9715 - auxilliary_output_2_loss: 0.9696 - output_accuracy: 0.6619 - auxilliary_output_1_accuracy: 0.6527 - auxilliary_output_2_accuracy: 0.6563 - val_loss: 1.6200 - val_output_loss: 1.0156 - val_auxilliary_output_1_loss: 1.0080 - val_auxilliary_output_2_loss: 1.0064 - val_output_accuracy: 0.6352 - val_auxilliary_output_1_accuracy: 0.6366 - val_auxilliary_output_2_accuracy: 0.6379\n",
            "Epoch 15/25\n",
            "98/98 [==============================] - 4s 42ms/step - loss: 1.5071 - output_loss: 0.9365 - auxilliary_output_1_loss: 0.9523 - auxilliary_output_2_loss: 0.9498 - output_accuracy: 0.6678 - auxilliary_output_1_accuracy: 0.6619 - auxilliary_output_2_accuracy: 0.6663 - val_loss: 1.5966 - val_output_loss: 1.0012 - val_auxilliary_output_1_loss: 0.9833 - val_auxilliary_output_2_loss: 1.0014 - val_output_accuracy: 0.6501 - val_auxilliary_output_1_accuracy: 0.6576 - val_auxilliary_output_2_accuracy: 0.6515\n",
            "Epoch 16/25\n",
            "98/98 [==============================] - 4s 42ms/step - loss: 1.4111 - output_loss: 0.8750 - auxilliary_output_1_loss: 0.8961 - auxilliary_output_2_loss: 0.8908 - output_accuracy: 0.6896 - auxilliary_output_1_accuracy: 0.6824 - auxilliary_output_2_accuracy: 0.6868 - val_loss: 1.5717 - val_output_loss: 0.9843 - val_auxilliary_output_1_loss: 0.9688 - val_auxilliary_output_2_loss: 0.9893 - val_output_accuracy: 0.6506 - val_auxilliary_output_1_accuracy: 0.6575 - val_auxilliary_output_2_accuracy: 0.6495\n",
            "Epoch 17/25\n",
            "98/98 [==============================] - 4s 42ms/step - loss: 1.3399 - output_loss: 0.8313 - auxilliary_output_1_loss: 0.8500 - auxilliary_output_2_loss: 0.8453 - output_accuracy: 0.7080 - auxilliary_output_1_accuracy: 0.7008 - auxilliary_output_2_accuracy: 0.7047 - val_loss: 1.4782 - val_output_loss: 0.9283 - val_auxilliary_output_1_loss: 0.9131 - val_auxilliary_output_2_loss: 0.9200 - val_output_accuracy: 0.6722 - val_auxilliary_output_1_accuracy: 0.6743 - val_auxilliary_output_2_accuracy: 0.6742\n",
            "Epoch 18/25\n",
            "98/98 [==============================] - 4s 42ms/step - loss: 1.2772 - output_loss: 0.7919 - auxilliary_output_1_loss: 0.8129 - auxilliary_output_2_loss: 0.8048 - output_accuracy: 0.7222 - auxilliary_output_1_accuracy: 0.7132 - auxilliary_output_2_accuracy: 0.7201 - val_loss: 1.4983 - val_output_loss: 0.9361 - val_auxilliary_output_1_loss: 0.9295 - val_auxilliary_output_2_loss: 0.9447 - val_output_accuracy: 0.6791 - val_auxilliary_output_1_accuracy: 0.6810 - val_auxilliary_output_2_accuracy: 0.6788\n",
            "Epoch 19/25\n",
            "98/98 [==============================] - 4s 42ms/step - loss: 1.1822 - output_loss: 0.7320 - auxilliary_output_1_loss: 0.7565 - auxilliary_output_2_loss: 0.7443 - output_accuracy: 0.7465 - auxilliary_output_1_accuracy: 0.7374 - auxilliary_output_2_accuracy: 0.7443 - val_loss: 1.4270 - val_output_loss: 0.8967 - val_auxilliary_output_1_loss: 0.8735 - val_auxilliary_output_2_loss: 0.8941 - val_output_accuracy: 0.6903 - val_auxilliary_output_1_accuracy: 0.6984 - val_auxilliary_output_2_accuracy: 0.6947\n",
            "Epoch 20/25\n",
            "98/98 [==============================] - 4s 42ms/step - loss: 1.1265 - output_loss: 0.6967 - auxilliary_output_1_loss: 0.7238 - auxilliary_output_2_loss: 0.7090 - output_accuracy: 0.7578 - auxilliary_output_1_accuracy: 0.7481 - auxilliary_output_2_accuracy: 0.7567 - val_loss: 1.5077 - val_output_loss: 0.9425 - val_auxilliary_output_1_loss: 0.9281 - val_auxilliary_output_2_loss: 0.9556 - val_output_accuracy: 0.6825 - val_auxilliary_output_1_accuracy: 0.6801 - val_auxilliary_output_2_accuracy: 0.6788\n",
            "Epoch 21/25\n",
            "98/98 [==============================] - 4s 42ms/step - loss: 1.0853 - output_loss: 0.6728 - auxilliary_output_1_loss: 0.6922 - auxilliary_output_2_loss: 0.6827 - output_accuracy: 0.7649 - auxilliary_output_1_accuracy: 0.7581 - auxilliary_output_2_accuracy: 0.7644 - val_loss: 1.4509 - val_output_loss: 0.9021 - val_auxilliary_output_1_loss: 0.9130 - val_auxilliary_output_2_loss: 0.9162 - val_output_accuracy: 0.6869 - val_auxilliary_output_1_accuracy: 0.6851 - val_auxilliary_output_2_accuracy: 0.6878\n",
            "Epoch 22/25\n",
            "98/98 [==============================] - 4s 42ms/step - loss: 1.0107 - output_loss: 0.6249 - auxilliary_output_1_loss: 0.6518 - auxilliary_output_2_loss: 0.6341 - output_accuracy: 0.7834 - auxilliary_output_1_accuracy: 0.7731 - auxilliary_output_2_accuracy: 0.7829 - val_loss: 1.5919 - val_output_loss: 1.0021 - val_auxilliary_output_1_loss: 0.9703 - val_auxilliary_output_2_loss: 0.9958 - val_output_accuracy: 0.6712 - val_auxilliary_output_1_accuracy: 0.6731 - val_auxilliary_output_2_accuracy: 0.6708\n",
            "Epoch 23/25\n",
            "98/98 [==============================] - 4s 42ms/step - loss: 0.9490 - output_loss: 0.5856 - auxilliary_output_1_loss: 0.6137 - auxilliary_output_2_loss: 0.5975 - output_accuracy: 0.7986 - auxilliary_output_1_accuracy: 0.7874 - auxilliary_output_2_accuracy: 0.7952 - val_loss: 1.3748 - val_output_loss: 0.8589 - val_auxilliary_output_1_loss: 0.8627 - val_auxilliary_output_2_loss: 0.8570 - val_output_accuracy: 0.7085 - val_auxilliary_output_1_accuracy: 0.7039 - val_auxilliary_output_2_accuracy: 0.7103\n",
            "Epoch 24/25\n",
            "98/98 [==============================] - 4s 42ms/step - loss: 0.8904 - output_loss: 0.5493 - auxilliary_output_1_loss: 0.5788 - auxilliary_output_2_loss: 0.5583 - output_accuracy: 0.8098 - auxilliary_output_1_accuracy: 0.8013 - auxilliary_output_2_accuracy: 0.8078 - val_loss: 1.5333 - val_output_loss: 0.9749 - val_auxilliary_output_1_loss: 0.9006 - val_auxilliary_output_2_loss: 0.9608 - val_output_accuracy: 0.6897 - val_auxilliary_output_1_accuracy: 0.6998 - val_auxilliary_output_2_accuracy: 0.6926\n",
            "Epoch 25/25\n",
            "98/98 [==============================] - 4s 42ms/step - loss: 0.8271 - output_loss: 0.5093 - auxilliary_output_1_loss: 0.5407 - auxilliary_output_2_loss: 0.5186 - output_accuracy: 0.8240 - auxilliary_output_1_accuracy: 0.8154 - auxilliary_output_2_accuracy: 0.8223 - val_loss: 1.4638 - val_output_loss: 0.9307 - val_auxilliary_output_1_loss: 0.8632 - val_auxilliary_output_2_loss: 0.9138 - val_output_accuracy: 0.7072 - val_auxilliary_output_1_accuracy: 0.7143 - val_auxilliary_output_2_accuracy: 0.7095\n"
          ],
          "name": "stdout"
        }
      ]
    },
    {
      "cell_type": "code",
      "metadata": {
        "id": "F7Pl62jL-Xwy",
        "outputId": "ea0fc5bf-7e61-4e68-daec-3e36fa74b8e0",
        "colab": {
          "base_uri": "https://localhost:8080/",
          "height": 295
        }
      },
      "source": [
        "import keras\n",
        "from matplotlib import pyplot as plt\n",
        "plt.plot(history.history['output_accuracy'])\n",
        "plt.plot(history.history['val_output_accuracy'])\n",
        "plt.title('model accuracy')\n",
        "plt.ylabel('accuracy')\n",
        "plt.xlabel('epoch')\n",
        "plt.legend(['train', 'val'], loc='upper left')\n",
        "plt.show()"
      ],
      "execution_count": 41,
      "outputs": [
        {
          "output_type": "display_data",
          "data": {
            "image/png": "[encoded data removed]",
            "text/plain": [
              "<Figure size 432x288 with 1 Axes>"
            ]
          },
          "metadata": {
            "tags": [],
            "needs_background": "light"
          }
        }
      ]
    },
    {
      "cell_type": "code",
      "metadata": {
        "id": "hojOEyDsL7cu",
        "outputId": "aab0cb9e-b32c-49b4-a920-e77f54c31667",
        "colab": {
          "base_uri": "https://localhost:8080/",
          "height": 295
        }
      },
      "source": [
        "plt.plot(history.history['loss'])\n",
        "plt.plot(history.history['val_output_loss'])\n",
        "plt.title('model loss')\n",
        "plt.ylabel('loss')\n",
        "plt.xlabel('epoch')\n",
        "plt.legend(['train', 'val'], loc='upper left')\n",
        "plt.show()"
      ],
      "execution_count": 42,
      "outputs": [
        {
          "output_type": "display_data",
          "data": {
            "image/png": "[encoded data removed]",
            "text/plain": [
              "<Figure size 432x288 with 1 Axes>"
            ]
          },
          "metadata": {
            "tags": [],
            "needs_background": "light"
          }
        }
      ]
    }
  ]
}