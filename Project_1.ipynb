{
  "nbformat": 4,
  "nbformat_minor": 0,
  "metadata": {
    "colab": {
      "name": "Project-1.ipynb",
      "provenance": [],
      "collapsed_sections": []
    },
    "kernelspec": {
      "display_name": "Python 3",
      "name": "python3"
    }
  },
  "cells": [
    {
      "cell_type": "code",
      "metadata": {
        "id": "VvpcOlU6ehRi"
      },
      "source": [
        "\n",
        "import pandas \n",
        "from keras.models import Sequential\n",
        "from keras.layers import Dense\n",
        "from keras.wrappers.scikit_learn import KerasClassifier\n",
        "from sklearn.model_selection import cross_val_score\n",
        "from sklearn.preprocessing import LabelEncoder\n",
        "from sklearn.model_selection import StratifiedKFold\n",
        "from sklearn.preprocessing import StandardScaler\n",
        "from sklearn.pipeline import Pipeline\n"
      ],
      "execution_count": null,
      "outputs": []
    },
    {
      "cell_type": "code",
      "metadata": {
        "id": "VXEpJ79hhnnB"
      },
      "source": [
        "\n",
        "# load dataset\n",
        "df= pandas.read_csv(\"/content/PitchPineMortality.csv\")"
      ],
      "execution_count": null,
      "outputs": []
    },
    {
      "cell_type": "code",
      "metadata": {
        "colab": {
          "base_uri": "https://localhost:8080/",
          "height": 407
        },
        "id": "zu9aW0mOqQ4w",
        "outputId": "f89c1cd0-ab2b-4395-d844-5c5491809948"
      },
      "source": [
        "df\n"
      ],
      "execution_count": null,
      "outputs": [
        {
          "output_type": "execute_result",
          "data": {
            "text/html": [
              "<div>\n",
              "<style scoped>\n",
              "    .dataframe tbody tr th:only-of-type {\n",
              "        vertical-align: middle;\n",
              "    }\n",
              "\n",
              "    .dataframe tbody tr th {\n",
              "        vertical-align: top;\n",
              "    }\n",
              "\n",
              "    .dataframe thead th {\n",
              "        text-align: right;\n",
              "    }\n",
              "</style>\n",
              "<table border=\"1\" class=\"dataframe\">\n",
              "  <thead>\n",
              "    <tr style=\"text-align: right;\">\n",
              "      <th></th>\n",
              "      <th>Shortname</th>\n",
              "      <th>CLASS</th>\n",
              "      <th>Status</th>\n",
              "      <th>Fire</th>\n",
              "      <th>Type</th>\n",
              "      <th>Diameter_cm</th>\n",
              "      <th>Height_m</th>\n",
              "      <th>2013 status</th>\n",
              "      <th>2014 Status</th>\n",
              "      <th>Response</th>\n",
              "    </tr>\n",
              "  </thead>\n",
              "  <tbody>\n",
              "    <tr>\n",
              "      <th>0</th>\n",
              "      <td>B5-012814-1</td>\n",
              "      <td>1</td>\n",
              "      <td>Pre</td>\n",
              "      <td>0</td>\n",
              "      <td>nf</td>\n",
              "      <td>14</td>\n",
              "      <td>5</td>\n",
              "      <td>live</td>\n",
              "      <td>live</td>\n",
              "      <td>0</td>\n",
              "    </tr>\n",
              "    <tr>\n",
              "      <th>1</th>\n",
              "      <td>B5-012814-1</td>\n",
              "      <td>1</td>\n",
              "      <td>Pre</td>\n",
              "      <td>0</td>\n",
              "      <td>nf</td>\n",
              "      <td>13</td>\n",
              "      <td>7</td>\n",
              "      <td>live</td>\n",
              "      <td>live</td>\n",
              "      <td>0</td>\n",
              "    </tr>\n",
              "    <tr>\n",
              "      <th>2</th>\n",
              "      <td>B5-012814-1</td>\n",
              "      <td>1</td>\n",
              "      <td>Pre</td>\n",
              "      <td>0</td>\n",
              "      <td>nf</td>\n",
              "      <td>5</td>\n",
              "      <td>3</td>\n",
              "      <td>live</td>\n",
              "      <td>live</td>\n",
              "      <td>0</td>\n",
              "    </tr>\n",
              "    <tr>\n",
              "      <th>3</th>\n",
              "      <td>B5-012814-1</td>\n",
              "      <td>1</td>\n",
              "      <td>Pre</td>\n",
              "      <td>0</td>\n",
              "      <td>nf</td>\n",
              "      <td>13</td>\n",
              "      <td>7</td>\n",
              "      <td>live</td>\n",
              "      <td>live</td>\n",
              "      <td>0</td>\n",
              "    </tr>\n",
              "    <tr>\n",
              "      <th>4</th>\n",
              "      <td>B5-012814-1</td>\n",
              "      <td>1</td>\n",
              "      <td>Pre</td>\n",
              "      <td>0</td>\n",
              "      <td>nf</td>\n",
              "      <td>6</td>\n",
              "      <td>4</td>\n",
              "      <td>live</td>\n",
              "      <td>live</td>\n",
              "      <td>0</td>\n",
              "    </tr>\n",
              "    <tr>\n",
              "      <th>...</th>\n",
              "      <td>...</td>\n",
              "      <td>...</td>\n",
              "      <td>...</td>\n",
              "      <td>...</td>\n",
              "      <td>...</td>\n",
              "      <td>...</td>\n",
              "      <td>...</td>\n",
              "      <td>...</td>\n",
              "      <td>...</td>\n",
              "      <td>...</td>\n",
              "    </tr>\n",
              "    <tr>\n",
              "      <th>2653</th>\n",
              "      <td>WW3</td>\n",
              "      <td>1</td>\n",
              "      <td>Pre</td>\n",
              "      <td>1</td>\n",
              "      <td>rxb</td>\n",
              "      <td>11</td>\n",
              "      <td>10</td>\n",
              "      <td>live</td>\n",
              "      <td>live</td>\n",
              "      <td>0</td>\n",
              "    </tr>\n",
              "    <tr>\n",
              "      <th>2654</th>\n",
              "      <td>WW3</td>\n",
              "      <td>1</td>\n",
              "      <td>Pre</td>\n",
              "      <td>1</td>\n",
              "      <td>rxb</td>\n",
              "      <td>23</td>\n",
              "      <td>14</td>\n",
              "      <td>live</td>\n",
              "      <td>live</td>\n",
              "      <td>0</td>\n",
              "    </tr>\n",
              "    <tr>\n",
              "      <th>2655</th>\n",
              "      <td>WW3</td>\n",
              "      <td>1</td>\n",
              "      <td>Pre</td>\n",
              "      <td>1</td>\n",
              "      <td>rxb</td>\n",
              "      <td>10</td>\n",
              "      <td>10</td>\n",
              "      <td>live</td>\n",
              "      <td>live</td>\n",
              "      <td>0</td>\n",
              "    </tr>\n",
              "    <tr>\n",
              "      <th>2656</th>\n",
              "      <td>WW3</td>\n",
              "      <td>1</td>\n",
              "      <td>Pre</td>\n",
              "      <td>1</td>\n",
              "      <td>rxb</td>\n",
              "      <td>15</td>\n",
              "      <td>13</td>\n",
              "      <td>live</td>\n",
              "      <td>live</td>\n",
              "      <td>0</td>\n",
              "    </tr>\n",
              "    <tr>\n",
              "      <th>2657</th>\n",
              "      <td>WW3</td>\n",
              "      <td>1</td>\n",
              "      <td>Pre</td>\n",
              "      <td>1</td>\n",
              "      <td>rxb</td>\n",
              "      <td>9</td>\n",
              "      <td>9</td>\n",
              "      <td>live</td>\n",
              "      <td>live</td>\n",
              "      <td>0</td>\n",
              "    </tr>\n",
              "  </tbody>\n",
              "</table>\n",
              "<p>2658 rows × 10 columns</p>\n",
              "</div>"
            ],
            "text/plain": [
              "        Shortname  CLASS Status  ...  2013 status 2014 Status  Response\n",
              "0     B5-012814-1      1    Pre  ...         live        live         0\n",
              "1     B5-012814-1      1    Pre  ...         live        live         0\n",
              "2     B5-012814-1      1    Pre  ...         live        live         0\n",
              "3     B5-012814-1      1    Pre  ...         live        live         0\n",
              "4     B5-012814-1      1    Pre  ...         live        live         0\n",
              "...           ...    ...    ...  ...          ...         ...       ...\n",
              "2653          WW3      1    Pre  ...         live        live         0\n",
              "2654          WW3      1    Pre  ...         live        live         0\n",
              "2655          WW3      1    Pre  ...         live        live         0\n",
              "2656          WW3      1    Pre  ...         live        live         0\n",
              "2657          WW3      1    Pre  ...         live        live         0\n",
              "\n",
              "[2658 rows x 10 columns]"
            ]
          },
          "metadata": {
            "tags": []
          },
          "execution_count": 3
        }
      ]
    },
    {
      "cell_type": "code",
      "metadata": {
        "colab": {
          "base_uri": "https://localhost:8080/"
        },
        "id": "colQiOPKqc_g",
        "outputId": "1053974c-a00f-4d97-93c3-4abdf3d66ece"
      },
      "source": [
        "df.columns"
      ],
      "execution_count": null,
      "outputs": [
        {
          "output_type": "execute_result",
          "data": {
            "text/plain": [
              "Index(['Shortname', 'CLASS', 'Status', 'Fire', 'Type', 'Diameter_cm',\n",
              "       'Height_m', '2013 status', '2014 Status', 'Response'],\n",
              "      dtype='object')"
            ]
          },
          "metadata": {
            "tags": []
          },
          "execution_count": 4
        }
      ]
    },
    {
      "cell_type": "code",
      "metadata": {
        "colab": {
          "base_uri": "https://localhost:8080/",
          "height": 548
        },
        "id": "l8TOCaO1916p",
        "outputId": "30e0bb72-e42c-47a7-db39-a39d08c60b96"
      },
      "source": [
        "\n",
        "# generate binary values using get_dummies\n",
        "df = pandas.get_dummies(df, columns=[\"Type\"], prefix=[\"Type is\"] )\n",
        "df = pandas.get_dummies(df, columns=[\"Status\"], prefix=[\"Status is\"] )\n",
        "df"
      ],
      "execution_count": null,
      "outputs": [
        {
          "output_type": "execute_result",
          "data": {
            "text/html": [
              "<div>\n",
              "<style scoped>\n",
              "    .dataframe tbody tr th:only-of-type {\n",
              "        vertical-align: middle;\n",
              "    }\n",
              "\n",
              "    .dataframe tbody tr th {\n",
              "        vertical-align: top;\n",
              "    }\n",
              "\n",
              "    .dataframe thead th {\n",
              "        text-align: right;\n",
              "    }\n",
              "</style>\n",
              "<table border=\"1\" class=\"dataframe\">\n",
              "  <thead>\n",
              "    <tr style=\"text-align: right;\">\n",
              "      <th></th>\n",
              "      <th>Shortname</th>\n",
              "      <th>CLASS</th>\n",
              "      <th>Fire</th>\n",
              "      <th>Diameter_cm</th>\n",
              "      <th>Height_m</th>\n",
              "      <th>2013 status</th>\n",
              "      <th>2014 Status</th>\n",
              "      <th>Response</th>\n",
              "      <th>Type is_nf</th>\n",
              "      <th>Type is_rxb</th>\n",
              "      <th>Type is_wf</th>\n",
              "      <th>Status is_Plus 1</th>\n",
              "      <th>Status is_Post+1</th>\n",
              "      <th>Status is_Pre</th>\n",
              "    </tr>\n",
              "  </thead>\n",
              "  <tbody>\n",
              "    <tr>\n",
              "      <th>0</th>\n",
              "      <td>B5-012814-1</td>\n",
              "      <td>1</td>\n",
              "      <td>0</td>\n",
              "      <td>14</td>\n",
              "      <td>5</td>\n",
              "      <td>live</td>\n",
              "      <td>live</td>\n",
              "      <td>0</td>\n",
              "      <td>1</td>\n",
              "      <td>0</td>\n",
              "      <td>0</td>\n",
              "      <td>0</td>\n",
              "      <td>0</td>\n",
              "      <td>1</td>\n",
              "    </tr>\n",
              "    <tr>\n",
              "      <th>1</th>\n",
              "      <td>B5-012814-1</td>\n",
              "      <td>1</td>\n",
              "      <td>0</td>\n",
              "      <td>13</td>\n",
              "      <td>7</td>\n",
              "      <td>live</td>\n",
              "      <td>live</td>\n",
              "      <td>0</td>\n",
              "      <td>1</td>\n",
              "      <td>0</td>\n",
              "      <td>0</td>\n",
              "      <td>0</td>\n",
              "      <td>0</td>\n",
              "      <td>1</td>\n",
              "    </tr>\n",
              "    <tr>\n",
              "      <th>2</th>\n",
              "      <td>B5-012814-1</td>\n",
              "      <td>1</td>\n",
              "      <td>0</td>\n",
              "      <td>5</td>\n",
              "      <td>3</td>\n",
              "      <td>live</td>\n",
              "      <td>live</td>\n",
              "      <td>0</td>\n",
              "      <td>1</td>\n",
              "      <td>0</td>\n",
              "      <td>0</td>\n",
              "      <td>0</td>\n",
              "      <td>0</td>\n",
              "      <td>1</td>\n",
              "    </tr>\n",
              "    <tr>\n",
              "      <th>3</th>\n",
              "      <td>B5-012814-1</td>\n",
              "      <td>1</td>\n",
              "      <td>0</td>\n",
              "      <td>13</td>\n",
              "      <td>7</td>\n",
              "      <td>live</td>\n",
              "      <td>live</td>\n",
              "      <td>0</td>\n",
              "      <td>1</td>\n",
              "      <td>0</td>\n",
              "      <td>0</td>\n",
              "      <td>0</td>\n",
              "      <td>0</td>\n",
              "      <td>1</td>\n",
              "    </tr>\n",
              "    <tr>\n",
              "      <th>4</th>\n",
              "      <td>B5-012814-1</td>\n",
              "      <td>1</td>\n",
              "      <td>0</td>\n",
              "      <td>6</td>\n",
              "      <td>4</td>\n",
              "      <td>live</td>\n",
              "      <td>live</td>\n",
              "      <td>0</td>\n",
              "      <td>1</td>\n",
              "      <td>0</td>\n",
              "      <td>0</td>\n",
              "      <td>0</td>\n",
              "      <td>0</td>\n",
              "      <td>1</td>\n",
              "    </tr>\n",
              "    <tr>\n",
              "      <th>...</th>\n",
              "      <td>...</td>\n",
              "      <td>...</td>\n",
              "      <td>...</td>\n",
              "      <td>...</td>\n",
              "      <td>...</td>\n",
              "      <td>...</td>\n",
              "      <td>...</td>\n",
              "      <td>...</td>\n",
              "      <td>...</td>\n",
              "      <td>...</td>\n",
              "      <td>...</td>\n",
              "      <td>...</td>\n",
              "      <td>...</td>\n",
              "      <td>...</td>\n",
              "    </tr>\n",
              "    <tr>\n",
              "      <th>2653</th>\n",
              "      <td>WW3</td>\n",
              "      <td>1</td>\n",
              "      <td>1</td>\n",
              "      <td>11</td>\n",
              "      <td>10</td>\n",
              "      <td>live</td>\n",
              "      <td>live</td>\n",
              "      <td>0</td>\n",
              "      <td>0</td>\n",
              "      <td>1</td>\n",
              "      <td>0</td>\n",
              "      <td>0</td>\n",
              "      <td>0</td>\n",
              "      <td>1</td>\n",
              "    </tr>\n",
              "    <tr>\n",
              "      <th>2654</th>\n",
              "      <td>WW3</td>\n",
              "      <td>1</td>\n",
              "      <td>1</td>\n",
              "      <td>23</td>\n",
              "      <td>14</td>\n",
              "      <td>live</td>\n",
              "      <td>live</td>\n",
              "      <td>0</td>\n",
              "      <td>0</td>\n",
              "      <td>1</td>\n",
              "      <td>0</td>\n",
              "      <td>0</td>\n",
              "      <td>0</td>\n",
              "      <td>1</td>\n",
              "    </tr>\n",
              "    <tr>\n",
              "      <th>2655</th>\n",
              "      <td>WW3</td>\n",
              "      <td>1</td>\n",
              "      <td>1</td>\n",
              "      <td>10</td>\n",
              "      <td>10</td>\n",
              "      <td>live</td>\n",
              "      <td>live</td>\n",
              "      <td>0</td>\n",
              "      <td>0</td>\n",
              "      <td>1</td>\n",
              "      <td>0</td>\n",
              "      <td>0</td>\n",
              "      <td>0</td>\n",
              "      <td>1</td>\n",
              "    </tr>\n",
              "    <tr>\n",
              "      <th>2656</th>\n",
              "      <td>WW3</td>\n",
              "      <td>1</td>\n",
              "      <td>1</td>\n",
              "      <td>15</td>\n",
              "      <td>13</td>\n",
              "      <td>live</td>\n",
              "      <td>live</td>\n",
              "      <td>0</td>\n",
              "      <td>0</td>\n",
              "      <td>1</td>\n",
              "      <td>0</td>\n",
              "      <td>0</td>\n",
              "      <td>0</td>\n",
              "      <td>1</td>\n",
              "    </tr>\n",
              "    <tr>\n",
              "      <th>2657</th>\n",
              "      <td>WW3</td>\n",
              "      <td>1</td>\n",
              "      <td>1</td>\n",
              "      <td>9</td>\n",
              "      <td>9</td>\n",
              "      <td>live</td>\n",
              "      <td>live</td>\n",
              "      <td>0</td>\n",
              "      <td>0</td>\n",
              "      <td>1</td>\n",
              "      <td>0</td>\n",
              "      <td>0</td>\n",
              "      <td>0</td>\n",
              "      <td>1</td>\n",
              "    </tr>\n",
              "  </tbody>\n",
              "</table>\n",
              "<p>2658 rows × 14 columns</p>\n",
              "</div>"
            ],
            "text/plain": [
              "        Shortname  CLASS  ...  Status is_Post+1  Status is_Pre\n",
              "0     B5-012814-1      1  ...                 0              1\n",
              "1     B5-012814-1      1  ...                 0              1\n",
              "2     B5-012814-1      1  ...                 0              1\n",
              "3     B5-012814-1      1  ...                 0              1\n",
              "4     B5-012814-1      1  ...                 0              1\n",
              "...           ...    ...  ...               ...            ...\n",
              "2653          WW3      1  ...                 0              1\n",
              "2654          WW3      1  ...                 0              1\n",
              "2655          WW3      1  ...                 0              1\n",
              "2656          WW3      1  ...                 0              1\n",
              "2657          WW3      1  ...                 0              1\n",
              "\n",
              "[2658 rows x 14 columns]"
            ]
          },
          "metadata": {
            "tags": []
          },
          "execution_count": 5
        }
      ]
    },
    {
      "cell_type": "code",
      "metadata": {
        "id": "6EDGtbqyGuOJ"
      },
      "source": [
        "x=df[['CLASS', 'Fire', 'Diameter_cm', 'Height_m',\n",
        "       'Response', 'Type is_nf', 'Type is_rxb', 'Type is_wf',\n",
        "       'Status is_Plus 1', 'Status is_Post+1', 'Status is_Pre']]\n",
        "\n",
        "y=df[\"Response\"]     "
      ],
      "execution_count": null,
      "outputs": []
    },
    {
      "cell_type": "code",
      "metadata": {
        "colab": {
          "base_uri": "https://localhost:8080/"
        },
        "id": "V_xivpNgHcwv",
        "outputId": "f540d98e-8918-40f2-ddc0-64dfcd85221d"
      },
      "source": [
        "x=x.astype(float)\n",
        "x.columns\n",
        "len(x)"
      ],
      "execution_count": null,
      "outputs": [
        {
          "output_type": "execute_result",
          "data": {
            "text/plain": [
              "2658"
            ]
          },
          "metadata": {
            "tags": []
          },
          "execution_count": 7
        }
      ]
    },
    {
      "cell_type": "code",
      "metadata": {
        "id": "UiIqUcW6ae43",
        "colab": {
          "base_uri": "https://localhost:8080/"
        },
        "outputId": "d8d39595-1c5e-4c6b-d9fa-14144d473ef7"
      },
      "source": [
        "\n",
        "from imblearn.over_sampling import RandomOverSampler\n",
        "oversample = RandomOverSampler(sampling_strategy='minority')\n",
        "oversample = RandomOverSampler(sampling_strategy=0.5)\n",
        "X, Y = oversample.fit_resample(x, y)\n",
        "len(X)"
      ],
      "execution_count": null,
      "outputs": [
        {
          "output_type": "stream",
          "text": [
            "/usr/local/lib/python3.6/dist-packages/sklearn/externals/six.py:31: FutureWarning: The module is deprecated in version 0.21 and will be removed in version 0.23 since we've dropped support for Python 2.7. Please rely on the official version of six (https://pypi.org/project/six/).\n",
            "  \"(https://pypi.org/project/six/).\", FutureWarning)\n",
            "/usr/local/lib/python3.6/dist-packages/sklearn/utils/deprecation.py:144: FutureWarning: The sklearn.neighbors.base module is  deprecated in version 0.22 and will be removed in version 0.24. The corresponding classes / functions should instead be imported from sklearn.neighbors. Anything that cannot be imported from sklearn.neighbors is now part of the private API.\n",
            "  warnings.warn(message, FutureWarning)\n",
            "/usr/local/lib/python3.6/dist-packages/sklearn/utils/deprecation.py:87: FutureWarning: Function safe_indexing is deprecated; safe_indexing is deprecated in version 0.22 and will be removed in version 0.24.\n",
            "  warnings.warn(msg, category=FutureWarning)\n"
          ],
          "name": "stderr"
        },
        {
          "output_type": "execute_result",
          "data": {
            "text/plain": [
              "3453"
            ]
          },
          "metadata": {
            "tags": []
          },
          "execution_count": 8
        }
      ]
    },
    {
      "cell_type": "code",
      "metadata": {
        "id": "XQaSDfFmJ-dG"
      },
      "source": [
        "\tmodel = Sequential()\n",
        "\tmodel.add(Dense(11, input_dim=11, activation='relu'))\n",
        "\tmodel.add(Dense(1, activation='sigmoid'))\n",
        "\t# Compile model\n",
        "\tmodel.compile(loss='binary_crossentropy', optimizer='adam', metrics=['accuracy'])"
      ],
      "execution_count": null,
      "outputs": []
    },
    {
      "cell_type": "code",
      "metadata": {
        "colab": {
          "base_uri": "https://localhost:8080/"
        },
        "id": "SAkYSVKuJZgO",
        "outputId": "4487b0e2-48dc-46a6-cc4b-e0eeec419967"
      },
      "source": [
        "history=model.fit(X, Y, epochs=40, batch_size=128,validation_split=0.25)"
      ],
      "execution_count": null,
      "outputs": [
        {
          "output_type": "stream",
          "text": [
            "Epoch 1/40\n",
            "21/21 [==============================] - 0s 7ms/step - loss: 5.3650 - accuracy: 0.1290 - val_loss: 0.7121 - val_accuracy: 0.8113\n",
            "Epoch 2/40\n",
            "21/21 [==============================] - 0s 2ms/step - loss: 4.1783 - accuracy: 0.1267 - val_loss: 0.7858 - val_accuracy: 0.7106\n",
            "Epoch 3/40\n",
            "21/21 [==============================] - 0s 2ms/step - loss: 3.0447 - accuracy: 0.1367 - val_loss: 1.0643 - val_accuracy: 0.4144\n",
            "Epoch 4/40\n",
            "21/21 [==============================] - 0s 2ms/step - loss: 1.9636 - accuracy: 0.2314 - val_loss: 1.6562 - val_accuracy: 0.1458\n",
            "Epoch 5/40\n",
            "21/21 [==============================] - 0s 2ms/step - loss: 1.1661 - accuracy: 0.4898 - val_loss: 2.3167 - val_accuracy: 0.0845\n",
            "Epoch 6/40\n",
            "21/21 [==============================] - 0s 2ms/step - loss: 0.7645 - accuracy: 0.6829 - val_loss: 2.7109 - val_accuracy: 0.0845\n",
            "Epoch 7/40\n",
            "21/21 [==============================] - 0s 2ms/step - loss: 0.6103 - accuracy: 0.7748 - val_loss: 2.7283 - val_accuracy: 0.0775\n",
            "Epoch 8/40\n",
            "21/21 [==============================] - 0s 2ms/step - loss: 0.5368 - accuracy: 0.8161 - val_loss: 2.5781 - val_accuracy: 0.0787\n",
            "Epoch 9/40\n",
            "21/21 [==============================] - 0s 2ms/step - loss: 0.4870 - accuracy: 0.8409 - val_loss: 2.3830 - val_accuracy: 0.0868\n",
            "Epoch 10/40\n",
            "21/21 [==============================] - 0s 2ms/step - loss: 0.4465 - accuracy: 0.8509 - val_loss: 2.1457 - val_accuracy: 0.0868\n",
            "Epoch 11/40\n",
            "21/21 [==============================] - 0s 2ms/step - loss: 0.4115 - accuracy: 0.8563 - val_loss: 1.9790 - val_accuracy: 0.0868\n",
            "Epoch 12/40\n",
            "21/21 [==============================] - 0s 2ms/step - loss: 0.3813 - accuracy: 0.8606 - val_loss: 1.8166 - val_accuracy: 0.0903\n",
            "Epoch 13/40\n",
            "21/21 [==============================] - 0s 2ms/step - loss: 0.3535 - accuracy: 0.8633 - val_loss: 1.6502 - val_accuracy: 0.1192\n",
            "Epoch 14/40\n",
            "21/21 [==============================] - 0s 2ms/step - loss: 0.3280 - accuracy: 0.8679 - val_loss: 1.4775 - val_accuracy: 0.1458\n",
            "Epoch 15/40\n",
            "21/21 [==============================] - 0s 2ms/step - loss: 0.3029 - accuracy: 0.8741 - val_loss: 1.3457 - val_accuracy: 0.1759\n",
            "Epoch 16/40\n",
            "21/21 [==============================] - 0s 2ms/step - loss: 0.2803 - accuracy: 0.8818 - val_loss: 1.2091 - val_accuracy: 0.2280\n",
            "Epoch 17/40\n",
            "21/21 [==============================] - 0s 2ms/step - loss: 0.2602 - accuracy: 0.8903 - val_loss: 1.1151 - val_accuracy: 0.2720\n",
            "Epoch 18/40\n",
            "21/21 [==============================] - 0s 2ms/step - loss: 0.2437 - accuracy: 0.8965 - val_loss: 1.0352 - val_accuracy: 0.3287\n",
            "Epoch 19/40\n",
            "21/21 [==============================] - 0s 2ms/step - loss: 0.2303 - accuracy: 0.9000 - val_loss: 0.9772 - val_accuracy: 0.3507\n",
            "Epoch 20/40\n",
            "21/21 [==============================] - 0s 2ms/step - loss: 0.2184 - accuracy: 0.9034 - val_loss: 0.9150 - val_accuracy: 0.3634\n",
            "Epoch 21/40\n",
            "21/21 [==============================] - 0s 2ms/step - loss: 0.2081 - accuracy: 0.9046 - val_loss: 0.8594 - val_accuracy: 0.3727\n",
            "Epoch 22/40\n",
            "21/21 [==============================] - 0s 2ms/step - loss: 0.1990 - accuracy: 0.9050 - val_loss: 0.8363 - val_accuracy: 0.3750\n",
            "Epoch 23/40\n",
            "21/21 [==============================] - 0s 2ms/step - loss: 0.1904 - accuracy: 0.9096 - val_loss: 0.7886 - val_accuracy: 0.4051\n",
            "Epoch 24/40\n",
            "21/21 [==============================] - 0s 2ms/step - loss: 0.1830 - accuracy: 0.9154 - val_loss: 0.7574 - val_accuracy: 0.4502\n",
            "Epoch 25/40\n",
            "21/21 [==============================] - 0s 2ms/step - loss: 0.1760 - accuracy: 0.9200 - val_loss: 0.7287 - val_accuracy: 0.4745\n",
            "Epoch 26/40\n",
            "21/21 [==============================] - 0s 2ms/step - loss: 0.1696 - accuracy: 0.9239 - val_loss: 0.6996 - val_accuracy: 0.4931\n",
            "Epoch 27/40\n",
            "21/21 [==============================] - 0s 2ms/step - loss: 0.1637 - accuracy: 0.9285 - val_loss: 0.6807 - val_accuracy: 0.5336\n",
            "Epoch 28/40\n",
            "21/21 [==============================] - 0s 2ms/step - loss: 0.1582 - accuracy: 0.9328 - val_loss: 0.6516 - val_accuracy: 0.5521\n",
            "Epoch 29/40\n",
            "21/21 [==============================] - 0s 2ms/step - loss: 0.1529 - accuracy: 0.9367 - val_loss: 0.6355 - val_accuracy: 0.5775\n",
            "Epoch 30/40\n",
            "21/21 [==============================] - 0s 2ms/step - loss: 0.1480 - accuracy: 0.9432 - val_loss: 0.5997 - val_accuracy: 0.6215\n",
            "Epoch 31/40\n",
            "21/21 [==============================] - 0s 2ms/step - loss: 0.1433 - accuracy: 0.9471 - val_loss: 0.5855 - val_accuracy: 0.6331\n",
            "Epoch 32/40\n",
            "21/21 [==============================] - 0s 2ms/step - loss: 0.1390 - accuracy: 0.9502 - val_loss: 0.5612 - val_accuracy: 0.6620\n",
            "Epoch 33/40\n",
            "21/21 [==============================] - 0s 2ms/step - loss: 0.1348 - accuracy: 0.9571 - val_loss: 0.5384 - val_accuracy: 0.6991\n",
            "Epoch 34/40\n",
            "21/21 [==============================] - 0s 2ms/step - loss: 0.1309 - accuracy: 0.9575 - val_loss: 0.5343 - val_accuracy: 0.6956\n",
            "Epoch 35/40\n",
            "21/21 [==============================] - 0s 2ms/step - loss: 0.1270 - accuracy: 0.9594 - val_loss: 0.5036 - val_accuracy: 0.7199\n",
            "Epoch 36/40\n",
            "21/21 [==============================] - 0s 2ms/step - loss: 0.1234 - accuracy: 0.9641 - val_loss: 0.4824 - val_accuracy: 0.7685\n",
            "Epoch 37/40\n",
            "21/21 [==============================] - 0s 2ms/step - loss: 0.1200 - accuracy: 0.9649 - val_loss: 0.4744 - val_accuracy: 0.7766\n",
            "Epoch 38/40\n",
            "21/21 [==============================] - 0s 2ms/step - loss: 0.1166 - accuracy: 0.9668 - val_loss: 0.4590 - val_accuracy: 0.7870\n",
            "Epoch 39/40\n",
            "21/21 [==============================] - 0s 2ms/step - loss: 0.1134 - accuracy: 0.9683 - val_loss: 0.4482 - val_accuracy: 0.7986\n",
            "Epoch 40/40\n",
            "21/21 [==============================] - 0s 2ms/step - loss: 0.1104 - accuracy: 0.9695 - val_loss: 0.4263 - val_accuracy: 0.8137\n"
          ],
          "name": "stdout"
        }
      ]
    },
    {
      "cell_type": "code",
      "metadata": {
        "colab": {
          "base_uri": "https://localhost:8080/",
          "height": 295
        },
        "id": "ciaTId82LEbj",
        "outputId": "f26b43df-4bcd-471e-ae65-7cb8e39ebae5"
      },
      "source": [
        "\n",
        "import keras\n",
        "from matplotlib import pyplot as plt\n",
        "plt.plot(history.history['accuracy'])\n",
        "plt.plot(history.history['val_accuracy'])\n",
        "plt.title('model accuracy')\n",
        "plt.ylabel('accuracy')\n",
        "plt.xlabel('epoch')\n",
        "plt.legend(['train', 'val'], loc='upper left')\n",
        "plt.show()"
      ],
      "execution_count": null,
      "outputs": [
        {
          "output_type": "display_data",
          "data": {
            "image/png": "[encoded data removed]",
            "text/plain": [
              "<Figure size 432x288 with 1 Axes>"
            ]
          },
          "metadata": {
            "tags": [],
            "needs_background": "light"
          }
        }
      ]
    },
    {
      "cell_type": "code",
      "metadata": {
        "colab": {
          "base_uri": "https://localhost:8080/",
          "height": 295
        },
        "id": "zAvNs5jrPoMQ",
        "outputId": "9770ac6d-8715-4cab-f08e-6919e4841a54"
      },
      "source": [
        "plt.plot(history.history['loss'])\n",
        "plt.plot(history.history['val_loss'])\n",
        "plt.title('model loss')\n",
        "plt.ylabel('loss')\n",
        "plt.xlabel('epoch')\n",
        "plt.legend(['train', 'val'], loc='upper left')\n",
        "plt.show()"
      ],
      "execution_count": null,
      "outputs": [
        {
          "output_type": "display_data",
          "data": {
            "image/png": "[encoded data removed]",
            "text/plain": [
              "<Figure size 432x288 with 1 Axes>"
            ]
          },
          "metadata": {
            "tags": [],
            "needs_background": "light"
          }
        }
      ]
    }
  ]
}